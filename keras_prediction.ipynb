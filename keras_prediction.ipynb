{
  "nbformat": 4,
  "nbformat_minor": 0,
  "metadata": {
    "colab": {
      "name": "keras.ipynb",
      "provenance": [],
      "collapsed_sections": []
    },
    "kernelspec": {
      "name": "python3",
      "display_name": "Python 3"
    },
    "accelerator": "GPU"
  },
  "cells": [
    {
      "cell_type": "code",
      "metadata": {
        "id": "cl8s56ZY2e7l",
        "colab_type": "code",
        "outputId": "7e8187e9-72ac-4499-d7e7-a78b9e7bbb7e",
        "colab": {
          "base_uri": "https://localhost:8080/",
          "height": 173
        }
      },
      "source": [
        "import pandas as pd\n",
        "from pandas_datareader import get_data_yahoo\n",
        "price = get_data_yahoo('005930.KS','2020-01-01')\n",
        "price = price.fillna('ffill')\n",
        "price = price.dropna()\n",
        "price.to_csv('stocks.csv', encoding='ms949')\n",
        "price.tail(3)"
      ],
      "execution_count": 0,
      "outputs": [
        {
          "output_type": "execute_result",
          "data": {
            "text/html": [
              "<div>\n",
              "<style scoped>\n",
              "    .dataframe tbody tr th:only-of-type {\n",
              "        vertical-align: middle;\n",
              "    }\n",
              "\n",
              "    .dataframe tbody tr th {\n",
              "        vertical-align: top;\n",
              "    }\n",
              "\n",
              "    .dataframe thead th {\n",
              "        text-align: right;\n",
              "    }\n",
              "</style>\n",
              "<table border=\"1\" class=\"dataframe\">\n",
              "  <thead>\n",
              "    <tr style=\"text-align: right;\">\n",
              "      <th></th>\n",
              "      <th>High</th>\n",
              "      <th>Low</th>\n",
              "      <th>Open</th>\n",
              "      <th>Close</th>\n",
              "      <th>Volume</th>\n",
              "      <th>Adj Close</th>\n",
              "    </tr>\n",
              "    <tr>\n",
              "      <th>Date</th>\n",
              "      <th></th>\n",
              "      <th></th>\n",
              "      <th></th>\n",
              "      <th></th>\n",
              "      <th></th>\n",
              "      <th></th>\n",
              "    </tr>\n",
              "  </thead>\n",
              "  <tbody>\n",
              "    <tr>\n",
              "      <th>2020-02-17</th>\n",
              "      <td>62000</td>\n",
              "      <td>61200</td>\n",
              "      <td>61600</td>\n",
              "      <td>61500</td>\n",
              "      <td>8740596</td>\n",
              "      <td>61500</td>\n",
              "    </tr>\n",
              "    <tr>\n",
              "      <th>2020-02-18</th>\n",
              "      <td>60900</td>\n",
              "      <td>59700</td>\n",
              "      <td>60800</td>\n",
              "      <td>59800</td>\n",
              "      <td>16674266</td>\n",
              "      <td>59800</td>\n",
              "    </tr>\n",
              "    <tr>\n",
              "      <th>2020-02-19</th>\n",
              "      <td>60400</td>\n",
              "      <td>59400</td>\n",
              "      <td>59800</td>\n",
              "      <td>60200</td>\n",
              "      <td>12923388</td>\n",
              "      <td>60200</td>\n",
              "    </tr>\n",
              "  </tbody>\n",
              "</table>\n",
              "</div>"
            ],
            "text/plain": [
              "             High    Low   Open  Close    Volume  Adj Close\n",
              "Date                                                       \n",
              "2020-02-17  62000  61200  61600  61500   8740596      61500\n",
              "2020-02-18  60900  59700  60800  59800  16674266      59800\n",
              "2020-02-19  60400  59400  59800  60200  12923388      60200"
            ]
          },
          "metadata": {
            "tags": []
          },
          "execution_count": 1
        }
      ]
    },
    {
      "cell_type": "code",
      "metadata": {
        "id": "XCLH_OZ-2i66",
        "colab_type": "code",
        "outputId": "98091f97-8b1c-41c4-ab02-9efb55ab600e",
        "colab": {
          "base_uri": "https://localhost:8080/",
          "height": 173
        }
      },
      "source": [
        "\n",
        "# price = price.set_index('Date')\n",
        "price.index = pd.DatetimeIndex(price.index)\n",
        "price.tail(3)"
      ],
      "execution_count": 0,
      "outputs": [
        {
          "output_type": "execute_result",
          "data": {
            "text/html": [
              "<div>\n",
              "<style scoped>\n",
              "    .dataframe tbody tr th:only-of-type {\n",
              "        vertical-align: middle;\n",
              "    }\n",
              "\n",
              "    .dataframe tbody tr th {\n",
              "        vertical-align: top;\n",
              "    }\n",
              "\n",
              "    .dataframe thead th {\n",
              "        text-align: right;\n",
              "    }\n",
              "</style>\n",
              "<table border=\"1\" class=\"dataframe\">\n",
              "  <thead>\n",
              "    <tr style=\"text-align: right;\">\n",
              "      <th></th>\n",
              "      <th>High</th>\n",
              "      <th>Low</th>\n",
              "      <th>Open</th>\n",
              "      <th>Close</th>\n",
              "      <th>Volume</th>\n",
              "      <th>Adj Close</th>\n",
              "    </tr>\n",
              "    <tr>\n",
              "      <th>Date</th>\n",
              "      <th></th>\n",
              "      <th></th>\n",
              "      <th></th>\n",
              "      <th></th>\n",
              "      <th></th>\n",
              "      <th></th>\n",
              "    </tr>\n",
              "  </thead>\n",
              "  <tbody>\n",
              "    <tr>\n",
              "      <th>2020-02-17</th>\n",
              "      <td>62000</td>\n",
              "      <td>61200</td>\n",
              "      <td>61600</td>\n",
              "      <td>61500</td>\n",
              "      <td>8740596</td>\n",
              "      <td>61500</td>\n",
              "    </tr>\n",
              "    <tr>\n",
              "      <th>2020-02-18</th>\n",
              "      <td>60900</td>\n",
              "      <td>59700</td>\n",
              "      <td>60800</td>\n",
              "      <td>59800</td>\n",
              "      <td>16674266</td>\n",
              "      <td>59800</td>\n",
              "    </tr>\n",
              "    <tr>\n",
              "      <th>2020-02-19</th>\n",
              "      <td>60400</td>\n",
              "      <td>59400</td>\n",
              "      <td>59800</td>\n",
              "      <td>60200</td>\n",
              "      <td>12923388</td>\n",
              "      <td>60200</td>\n",
              "    </tr>\n",
              "  </tbody>\n",
              "</table>\n",
              "</div>"
            ],
            "text/plain": [
              "             High    Low   Open  Close    Volume  Adj Close\n",
              "Date                                                       \n",
              "2020-02-17  62000  61200  61600  61500   8740596      61500\n",
              "2020-02-18  60900  59700  60800  59800  16674266      59800\n",
              "2020-02-19  60400  59400  59800  60200  12923388      60200"
            ]
          },
          "metadata": {
            "tags": []
          },
          "execution_count": 2
        }
      ]
    },
    {
      "cell_type": "code",
      "metadata": {
        "id": "vzeBw8wg6OAf",
        "colab_type": "code",
        "outputId": "791a930a-5a86-4545-a8eb-c2d94102ac0c",
        "colab": {
          "base_uri": "https://localhost:8080/",
          "height": 111
        }
      },
      "source": [
        "dataset = price.reset_index()\n",
        "dataset.head(2)"
      ],
      "execution_count": 0,
      "outputs": [
        {
          "output_type": "execute_result",
          "data": {
            "text/html": [
              "<div>\n",
              "<style scoped>\n",
              "    .dataframe tbody tr th:only-of-type {\n",
              "        vertical-align: middle;\n",
              "    }\n",
              "\n",
              "    .dataframe tbody tr th {\n",
              "        vertical-align: top;\n",
              "    }\n",
              "\n",
              "    .dataframe thead th {\n",
              "        text-align: right;\n",
              "    }\n",
              "</style>\n",
              "<table border=\"1\" class=\"dataframe\">\n",
              "  <thead>\n",
              "    <tr style=\"text-align: right;\">\n",
              "      <th></th>\n",
              "      <th>Date</th>\n",
              "      <th>High</th>\n",
              "      <th>Low</th>\n",
              "      <th>Open</th>\n",
              "      <th>Close</th>\n",
              "      <th>Volume</th>\n",
              "      <th>Adj Close</th>\n",
              "    </tr>\n",
              "  </thead>\n",
              "  <tbody>\n",
              "    <tr>\n",
              "      <th>0</th>\n",
              "      <td>2020-01-02</td>\n",
              "      <td>56000</td>\n",
              "      <td>55000</td>\n",
              "      <td>55500</td>\n",
              "      <td>55200</td>\n",
              "      <td>12993228</td>\n",
              "      <td>55200</td>\n",
              "    </tr>\n",
              "    <tr>\n",
              "      <th>1</th>\n",
              "      <td>2020-01-03</td>\n",
              "      <td>56600</td>\n",
              "      <td>54900</td>\n",
              "      <td>56000</td>\n",
              "      <td>55500</td>\n",
              "      <td>15422255</td>\n",
              "      <td>55500</td>\n",
              "    </tr>\n",
              "  </tbody>\n",
              "</table>\n",
              "</div>"
            ],
            "text/plain": [
              "        Date   High    Low   Open  Close    Volume  Adj Close\n",
              "0 2020-01-02  56000  55000  55500  55200  12993228      55200\n",
              "1 2020-01-03  56600  54900  56000  55500  15422255      55500"
            ]
          },
          "metadata": {
            "tags": []
          },
          "execution_count": 3
        }
      ]
    },
    {
      "cell_type": "code",
      "metadata": {
        "id": "upMhqPy6810Q",
        "colab_type": "code",
        "outputId": "27aedb1c-487b-4bc9-c3f7-b9e60402be4e",
        "colab": {
          "base_uri": "https://localhost:8080/",
          "height": 142
        }
      },
      "source": [
        "dataset = price.reset_index()\n",
        "del dataset['Date']\n",
        "del dataset['Volume']\n",
        "del dataset['Adj Close']\n",
        "dataset.columns = ['Open','High','Low','Close']\n",
        "dataset.tail(3)"
      ],
      "execution_count": 0,
      "outputs": [
        {
          "output_type": "execute_result",
          "data": {
            "text/html": [
              "<div>\n",
              "<style scoped>\n",
              "    .dataframe tbody tr th:only-of-type {\n",
              "        vertical-align: middle;\n",
              "    }\n",
              "\n",
              "    .dataframe tbody tr th {\n",
              "        vertical-align: top;\n",
              "    }\n",
              "\n",
              "    .dataframe thead th {\n",
              "        text-align: right;\n",
              "    }\n",
              "</style>\n",
              "<table border=\"1\" class=\"dataframe\">\n",
              "  <thead>\n",
              "    <tr style=\"text-align: right;\">\n",
              "      <th></th>\n",
              "      <th>Open</th>\n",
              "      <th>High</th>\n",
              "      <th>Low</th>\n",
              "      <th>Close</th>\n",
              "    </tr>\n",
              "  </thead>\n",
              "  <tbody>\n",
              "    <tr>\n",
              "      <th>30</th>\n",
              "      <td>62000</td>\n",
              "      <td>61200</td>\n",
              "      <td>61600</td>\n",
              "      <td>61500</td>\n",
              "    </tr>\n",
              "    <tr>\n",
              "      <th>31</th>\n",
              "      <td>60900</td>\n",
              "      <td>59700</td>\n",
              "      <td>60800</td>\n",
              "      <td>59800</td>\n",
              "    </tr>\n",
              "    <tr>\n",
              "      <th>32</th>\n",
              "      <td>60400</td>\n",
              "      <td>59400</td>\n",
              "      <td>59800</td>\n",
              "      <td>60200</td>\n",
              "    </tr>\n",
              "  </tbody>\n",
              "</table>\n",
              "</div>"
            ],
            "text/plain": [
              "     Open   High    Low  Close\n",
              "30  62000  61200  61600  61500\n",
              "31  60900  59700  60800  59800\n",
              "32  60400  59400  59800  60200"
            ]
          },
          "metadata": {
            "tags": []
          },
          "execution_count": 4
        }
      ]
    },
    {
      "cell_type": "code",
      "metadata": {
        "id": "8xMtR6719PaL",
        "colab_type": "code",
        "outputId": "e804b5a1-4296-4683-c8ca-f1e999f8146f",
        "colab": {
          "base_uri": "https://localhost:8080/",
          "height": 34
        }
      },
      "source": [
        "%tensorflow_version 2.x"
      ],
      "execution_count": 0,
      "outputs": [
        {
          "output_type": "stream",
          "text": [
            "TensorFlow 2.x selected.\n"
          ],
          "name": "stdout"
        }
      ]
    },
    {
      "cell_type": "code",
      "metadata": {
        "id": "qiBToVGb9U8e",
        "colab_type": "code",
        "outputId": "e7b5d010-696c-4679-cfca-65c27c496c00",
        "colab": {
          "base_uri": "https://localhost:8080/",
          "height": 51
        }
      },
      "source": [
        "import tensorflow as tf\n",
        "print(tf.__version__)\n",
        "print(tf.test.gpu_device_name())"
      ],
      "execution_count": 0,
      "outputs": [
        {
          "output_type": "stream",
          "text": [
            "2.1.0\n",
            "/device:GPU:0\n"
          ],
          "name": "stdout"
        }
      ]
    },
    {
      "cell_type": "code",
      "metadata": {
        "id": "xuQwth5K88Av",
        "colab_type": "code",
        "colab": {}
      },
      "source": [
        "import pandas as pd\n",
        "import matplotlib.pyplot as plt\n",
        "import numpy as np \n",
        "import math\n",
        "from sklearn.preprocessing import MinMaxScaler\n",
        "from sklearn.metrics import mean_squared_error\n",
        "from tensorflow.keras.models import Sequential\n",
        "from tensorflow.keras.layers import Dense, Activation, BatchNormalization\n",
        "from tensorflow.keras.layers import LSTM"
      ],
      "execution_count": 0,
      "outputs": []
    },
    {
      "cell_type": "code",
      "metadata": {
        "id": "nO_yFTD-9AoK",
        "colab_type": "code",
        "outputId": "ec8e041e-0c4f-4215-f616-dce7138623ad",
        "colab": {
          "base_uri": "https://localhost:8080/",
          "height": 374
        }
      },
      "source": [
        "np.random.seed(33)  \n",
        "\n",
        "obs       = np.arange(1, len(dataset) + 1, 1)\n",
        "OHLC_avg  = dataset.mean(axis = 1)           \n",
        "HLC_avg   = dataset[['High', 'Low', 'Close']].mean(axis = 1)\n",
        "close_val = dataset[['Close']]\n",
        "plt.figure(figsize=(12,6))\n",
        "plt.plot(obs, OHLC_avg,  'r', label = 'OHLC avg')\n",
        "plt.plot(obs, HLC_avg,   'b', label = 'HLC avg')\n",
        "plt.plot(obs, close_val, 'g', label = 'Closing price')\n",
        "plt.legend(loc = 'upper right')\n",
        "plt.grid()\n",
        "plt.show()"
      ],
      "execution_count": 0,
      "outputs": [
        {
          "output_type": "display_data",
          "data": {
            "image/png": "[encoded data removed]",
            "text/plain": [
              "<Figure size 864x432 with 1 Axes>"
            ]
          },
          "metadata": {
            "tags": []
          }
        }
      ]
    },
    {
      "cell_type": "code",
      "metadata": {
        "id": "-mNrZ0LQ9umH",
        "colab_type": "code",
        "outputId": "866131f8-df35-46c9-df26-19d8b2f06f34",
        "colab": {
          "base_uri": "https://localhost:8080/",
          "height": 204
        }
      },
      "source": [
        "OHLC_avg = np.reshape(OHLC_avg.values, (len(OHLC_avg), 1) )\n",
        "print(\"일평균 데이터 : {},\\n {}\".format( OHLC_avg[:5], type(OHLC_avg)))\n",
        "\n",
        "scaler   = MinMaxScaler(feature_range=(0, 1))\n",
        "OHLC_avg = scaler.fit_transform(OHLC_avg)  \n",
        "print(\"정규화 데이터 : {}, {}\".format(type(OHLC_avg), OHLC_avg[:5]))\n"
      ],
      "execution_count": 0,
      "outputs": [
        {
          "output_type": "stream",
          "text": [
            "일평균 데이터 : [[55425.]\n",
            " [55750.]\n",
            " [55150.]\n",
            " [55875.]\n",
            " [56575.]],\n",
            " <class 'numpy.ndarray'>\n",
            "정규화 데이터 : <class 'numpy.ndarray'>, [[0.03886926]\n",
            " [0.08480565]\n",
            " [0.        ]\n",
            " [0.1024735 ]\n",
            " [0.20141343]]\n"
          ],
          "name": "stdout"
        }
      ]
    },
    {
      "cell_type": "code",
      "metadata": {
        "id": "LBfWEsqo90Sm",
        "colab_type": "code",
        "outputId": "54953496-3cea-4656-df86-303610f3eabb",
        "colab": {
          "base_uri": "https://localhost:8080/",
          "height": 68
        }
      },
      "source": [
        "def new_dataset(dataset, step_size):\n",
        "    import numpy as np \n",
        "    data_X, data_Y = [], []\n",
        "    for i in range(len(dataset) - step_size - 1):\n",
        "        data_X.append(dataset[i : (i+step_size), 0])  \n",
        "        data_Y.append(dataset[i + step_size,     0])\n",
        "    return np.array(data_X), np.array(data_Y)\n",
        "\n",
        "train_OHLC = int(len(OHLC_avg) * 0.75)\n",
        "test_OHLC  = len(OHLC_avg) - train_OHLC\n",
        "train_OHLC, test_OHLC = OHLC_avg[0:train_OHLC,:], OHLC_avg[train_OHLC:len(OHLC_avg),:]\n",
        "\n",
        "trainX, trainY = new_dataset(train_OHLC, 1)\n",
        "testX, testY   = new_dataset(test_OHLC, 1)\n",
        "print(trainX.shape, trainY.shape)  \n",
        "print(trainX[1], trainY[1])\n",
        "\n",
        "trainX = np.reshape(trainX, (trainX.shape[0], 1, trainX.shape[1]))\n",
        "testX  = np.reshape(testX,  (testX.shape[0],  1, testX.shape[1]))\n",
        "trainX.shape, testX.shape"
      ],
      "execution_count": 0,
      "outputs": [
        {
          "output_type": "stream",
          "text": [
            "(22, 1) (22,)\n",
            "[0.08480565] 0.0\n"
          ],
          "name": "stdout"
        },
        {
          "output_type": "execute_result",
          "data": {
            "text/plain": [
              "((22, 1, 1), (7, 1, 1))"
            ]
          },
          "metadata": {
            "tags": []
          },
          "execution_count": 10
        }
      ]
    },
    {
      "cell_type": "code",
      "metadata": {
        "id": "bckJD230-R1C",
        "colab_type": "code",
        "outputId": "c832e4bf-e288-47d1-a8ee-b13bafbdf795",
        "colab": {
          "base_uri": "https://localhost:8080/",
          "height": 1000
        }
      },
      "source": [
        "step_size = 1\n",
        "model = Sequential()\n",
        "model.add(LSTM(256, input_shape=(1, step_size), return_sequences = True))\n",
        "model.add(LSTM(128))\n",
        "model.add(Dense(1))\n",
        "model.add(Activation('linear'))\n",
        "\n",
        "model.compile(loss='mean_squared_error', optimizer='adam') \n",
        "model.fit(trainX, trainY, epochs=100, batch_size=10, verbose=2)"
      ],
      "execution_count": 0,
      "outputs": [
        {
          "output_type": "stream",
          "text": [
            "Train on 22 samples\n",
            "Epoch 1/100\n",
            "22/22 - 4s - loss: 0.3517\n",
            "Epoch 2/100\n",
            "22/22 - 0s - loss: 0.3194\n",
            "Epoch 3/100\n",
            "22/22 - 0s - loss: 0.2859\n",
            "Epoch 4/100\n",
            "22/22 - 0s - loss: 0.2462\n",
            "Epoch 5/100\n",
            "22/22 - 0s - loss: 0.2084\n",
            "Epoch 6/100\n",
            "22/22 - 0s - loss: 0.1660\n",
            "Epoch 7/100\n",
            "22/22 - 0s - loss: 0.1192\n",
            "Epoch 8/100\n",
            "22/22 - 0s - loss: 0.0796\n",
            "Epoch 9/100\n",
            "22/22 - 0s - loss: 0.0495\n",
            "Epoch 10/100\n",
            "22/22 - 0s - loss: 0.0317\n",
            "Epoch 11/100\n",
            "22/22 - 0s - loss: 0.0321\n",
            "Epoch 12/100\n",
            "22/22 - 0s - loss: 0.0409\n",
            "Epoch 13/100\n",
            "22/22 - 0s - loss: 0.0420\n",
            "Epoch 14/100\n",
            "22/22 - 0s - loss: 0.0358\n",
            "Epoch 15/100\n",
            "22/22 - 0s - loss: 0.0300\n",
            "Epoch 16/100\n",
            "22/22 - 0s - loss: 0.0276\n",
            "Epoch 17/100\n",
            "22/22 - 0s - loss: 0.0275\n",
            "Epoch 18/100\n",
            "22/22 - 0s - loss: 0.0273\n",
            "Epoch 19/100\n",
            "22/22 - 0s - loss: 0.0265\n",
            "Epoch 20/100\n",
            "22/22 - 0s - loss: 0.0264\n",
            "Epoch 21/100\n",
            "22/22 - 0s - loss: 0.0249\n",
            "Epoch 22/100\n",
            "22/22 - 0s - loss: 0.0247\n",
            "Epoch 23/100\n",
            "22/22 - 0s - loss: 0.0240\n",
            "Epoch 24/100\n",
            "22/22 - 0s - loss: 0.0237\n",
            "Epoch 25/100\n",
            "22/22 - 0s - loss: 0.0232\n",
            "Epoch 26/100\n",
            "22/22 - 0s - loss: 0.0230\n",
            "Epoch 27/100\n",
            "22/22 - 0s - loss: 0.0224\n",
            "Epoch 28/100\n",
            "22/22 - 0s - loss: 0.0221\n",
            "Epoch 29/100\n",
            "22/22 - 0s - loss: 0.0218\n",
            "Epoch 30/100\n",
            "22/22 - 0s - loss: 0.0214\n",
            "Epoch 31/100\n",
            "22/22 - 0s - loss: 0.0216\n",
            "Epoch 32/100\n",
            "22/22 - 0s - loss: 0.0216\n",
            "Epoch 33/100\n",
            "22/22 - 0s - loss: 0.0212\n",
            "Epoch 34/100\n",
            "22/22 - 0s - loss: 0.0202\n",
            "Epoch 35/100\n",
            "22/22 - 0s - loss: 0.0206\n",
            "Epoch 36/100\n",
            "22/22 - 0s - loss: 0.0229\n",
            "Epoch 37/100\n",
            "22/22 - 0s - loss: 0.0235\n",
            "Epoch 38/100\n",
            "22/22 - 0s - loss: 0.0215\n",
            "Epoch 39/100\n",
            "22/22 - 0s - loss: 0.0203\n",
            "Epoch 40/100\n",
            "22/22 - 0s - loss: 0.0208\n",
            "Epoch 41/100\n",
            "22/22 - 0s - loss: 0.0213\n",
            "Epoch 42/100\n",
            "22/22 - 0s - loss: 0.0206\n",
            "Epoch 43/100\n",
            "22/22 - 0s - loss: 0.0198\n",
            "Epoch 44/100\n",
            "22/22 - 0s - loss: 0.0203\n",
            "Epoch 45/100\n",
            "22/22 - 0s - loss: 0.0200\n",
            "Epoch 46/100\n",
            "22/22 - 0s - loss: 0.0202\n",
            "Epoch 47/100\n",
            "22/22 - 0s - loss: 0.0198\n",
            "Epoch 48/100\n",
            "22/22 - 0s - loss: 0.0195\n",
            "Epoch 49/100\n",
            "22/22 - 0s - loss: 0.0202\n",
            "Epoch 50/100\n",
            "22/22 - 0s - loss: 0.0214\n",
            "Epoch 51/100\n",
            "22/22 - 0s - loss: 0.0227\n",
            "Epoch 52/100\n",
            "22/22 - 0s - loss: 0.0232\n",
            "Epoch 53/100\n",
            "22/22 - 0s - loss: 0.0209\n",
            "Epoch 54/100\n",
            "22/22 - 0s - loss: 0.0201\n",
            "Epoch 55/100\n",
            "22/22 - 0s - loss: 0.0206\n",
            "Epoch 56/100\n",
            "22/22 - 0s - loss: 0.0214\n",
            "Epoch 57/100\n",
            "22/22 - 0s - loss: 0.0208\n",
            "Epoch 58/100\n",
            "22/22 - 0s - loss: 0.0205\n",
            "Epoch 59/100\n",
            "22/22 - 0s - loss: 0.0194\n",
            "Epoch 60/100\n",
            "22/22 - 0s - loss: 0.0201\n",
            "Epoch 61/100\n",
            "22/22 - 0s - loss: 0.0204\n",
            "Epoch 62/100\n",
            "22/22 - 0s - loss: 0.0199\n",
            "Epoch 63/100\n",
            "22/22 - 0s - loss: 0.0198\n",
            "Epoch 64/100\n",
            "22/22 - 0s - loss: 0.0196\n",
            "Epoch 65/100\n",
            "22/22 - 0s - loss: 0.0198\n",
            "Epoch 66/100\n",
            "22/22 - 0s - loss: 0.0198\n",
            "Epoch 67/100\n",
            "22/22 - 0s - loss: 0.0195\n",
            "Epoch 68/100\n",
            "22/22 - 0s - loss: 0.0197\n",
            "Epoch 69/100\n",
            "22/22 - 0s - loss: 0.0200\n",
            "Epoch 70/100\n",
            "22/22 - 0s - loss: 0.0204\n",
            "Epoch 71/100\n",
            "22/22 - 0s - loss: 0.0205\n",
            "Epoch 72/100\n",
            "22/22 - 0s - loss: 0.0207\n",
            "Epoch 73/100\n",
            "22/22 - 0s - loss: 0.0197\n",
            "Epoch 74/100\n",
            "22/22 - 0s - loss: 0.0197\n",
            "Epoch 75/100\n",
            "22/22 - 0s - loss: 0.0204\n",
            "Epoch 76/100\n",
            "22/22 - 0s - loss: 0.0201\n",
            "Epoch 77/100\n",
            "22/22 - 0s - loss: 0.0196\n",
            "Epoch 78/100\n",
            "22/22 - 0s - loss: 0.0194\n",
            "Epoch 79/100\n",
            "22/22 - 0s - loss: 0.0202\n",
            "Epoch 80/100\n",
            "22/22 - 0s - loss: 0.0200\n",
            "Epoch 81/100\n",
            "22/22 - 0s - loss: 0.0195\n",
            "Epoch 82/100\n",
            "22/22 - 0s - loss: 0.0197\n",
            "Epoch 83/100\n",
            "22/22 - 0s - loss: 0.0199\n",
            "Epoch 84/100\n",
            "22/22 - 0s - loss: 0.0198\n",
            "Epoch 85/100\n",
            "22/22 - 0s - loss: 0.0197\n",
            "Epoch 86/100\n",
            "22/22 - 0s - loss: 0.0198\n",
            "Epoch 87/100\n",
            "22/22 - 0s - loss: 0.0196\n",
            "Epoch 88/100\n",
            "22/22 - 0s - loss: 0.0207\n",
            "Epoch 89/100\n",
            "22/22 - 0s - loss: 0.0211\n",
            "Epoch 90/100\n",
            "22/22 - 0s - loss: 0.0206\n",
            "Epoch 91/100\n",
            "22/22 - 0s - loss: 0.0211\n",
            "Epoch 92/100\n",
            "22/22 - 0s - loss: 0.0193\n",
            "Epoch 93/100\n",
            "22/22 - 0s - loss: 0.0195\n",
            "Epoch 94/100\n",
            "22/22 - 0s - loss: 0.0214\n",
            "Epoch 95/100\n",
            "22/22 - 0s - loss: 0.0205\n",
            "Epoch 96/100\n",
            "22/22 - 0s - loss: 0.0199\n",
            "Epoch 97/100\n",
            "22/22 - 0s - loss: 0.0197\n",
            "Epoch 98/100\n",
            "22/22 - 0s - loss: 0.0201\n",
            "Epoch 99/100\n",
            "22/22 - 0s - loss: 0.0208\n",
            "Epoch 100/100\n",
            "22/22 - 0s - loss: 0.0206\n"
          ],
          "name": "stdout"
        },
        {
          "output_type": "execute_result",
          "data": {
            "text/plain": [
              "<tensorflow.python.keras.callbacks.History at 0x7fcd5036c860>"
            ]
          },
          "metadata": {
            "tags": []
          },
          "execution_count": 11
        }
      ]
    },
    {
      "cell_type": "code",
      "metadata": {
        "id": "6Pjntywi_CZ1",
        "colab_type": "code",
        "outputId": "e75c26a5-36df-4768-9af4-420b3f216683",
        "colab": {
          "base_uri": "https://localhost:8080/",
          "height": 51
        }
      },
      "source": [
        "trainPredict = model.predict(trainX)\n",
        "testPredict  = model.predict(testX)\n",
        "\n",
        "trainPredict = scaler.inverse_transform(trainPredict)\n",
        "trainY       = scaler.inverse_transform([trainY])\n",
        "testPredict  = scaler.inverse_transform(testPredict)\n",
        "testY        = scaler.inverse_transform([testY])\n",
        "\n",
        "trainScore = math.sqrt(mean_squared_error(trainY[0], trainPredict[:,0]))\n",
        "testScore  = math.sqrt(mean_squared_error(testY[0], testPredict[:,0]))\n",
        "print('Train RMSE: {:.2f}\\nTest  RMSE: {:.2f}'.format(trainScore, testScore))"
      ],
      "execution_count": 0,
      "outputs": [
        {
          "output_type": "stream",
          "text": [
            "Train RMSE: 1019.77\n",
            "Test  RMSE: 758.74\n"
          ],
          "name": "stdout"
        }
      ]
    },
    {
      "cell_type": "code",
      "metadata": {
        "id": "g-6jnUtg_H4J",
        "colab_type": "code",
        "colab": {}
      },
      "source": [
        "trainPredictPlot          = np.empty_like(OHLC_avg)\n",
        "trainPredictPlot[ : , : ] = np.nan\n",
        "trainPredictPlot[step_size : len(trainPredict) + step_size , : ] = trainPredict\n",
        "\n",
        "testPredictPlot       = np.empty_like(OHLC_avg)\n",
        "testPredictPlot[:, :] = np.nan\n",
        "testPredictPlot[len(trainPredict) + (step_size*2) + 1 : len(OHLC_avg) - 1 , : ] = testPredict"
      ],
      "execution_count": 0,
      "outputs": []
    },
    {
      "cell_type": "code",
      "metadata": {
        "id": "c409GpGl_IGy",
        "colab_type": "code",
        "outputId": "5b20512a-c4b4-43b1-8c49-ce25d65dd97a",
        "colab": {
          "base_uri": "https://localhost:8080/",
          "height": 388
        }
      },
      "source": [
        "OHLC_avg = scaler.inverse_transform(OHLC_avg)\n",
        "\n",
        "plt.figure(figsize=(12,6))\n",
        "plt.plot(OHLC_avg,         'g', label = 'original dataset')\n",
        "plt.plot(trainPredictPlot, 'r', label = 'train predicted stock price')\n",
        "plt.plot(testPredictPlot,  'b', label = 'test predicted stock price')\n",
        "plt.xlabel('Time in Days')\n",
        "plt.ylabel('OHLC Value of Apple Stocks')\n",
        "plt.legend(loc = 'upper left')\n",
        "plt.grid(); plt.show()"
      ],
      "execution_count": 0,
      "outputs": [
        {
          "output_type": "display_data",
          "data": {
            "image/png": "[encoded data removed]",
            "text/plain": [
              "<Figure size 864x432 with 1 Axes>"
            ]
          },
          "metadata": {
            "tags": []
          }
        }
      ]
    },
    {
      "cell_type": "code",
      "metadata": {
        "id": "FpfXifla_TqL",
        "colab_type": "code",
        "outputId": "8ea43193-2709-4b9e-b2e7-7b36d6b685f5",
        "colab": {
          "base_uri": "https://localhost:8080/",
          "height": 136
        }
      },
      "source": [
        "last_val        = testPredict[-1:]\n",
        "last_val_scaled = last_val / last_val\n",
        "next_val        = model.predict(np.reshape(last_val_scaled, (1,1,1)))\n",
        "last_price      = np.asscalar(last_val)\n",
        "next_price      = np.asscalar(last_val * next_val)\n",
        "print (\"마지막 예측가격 : {} \\n다음날 예측가격 : {} \\n증감률 : {}\".format(\n",
        "        last_price, \n",
        "        next_price, \n",
        "        (next_price - last_val) / last_val) )"
      ],
      "execution_count": 0,
      "outputs": [
        {
          "output_type": "stream",
          "text": [
            "마지막 예측가격 : 61670.96484375 \n",
            "다음날 예측가격 : 62116.46484375 \n",
            "증감률 : [[0.00722382]]\n"
          ],
          "name": "stdout"
        },
        {
          "output_type": "stream",
          "text": [
            "/usr/local/lib/python3.6/dist-packages/ipykernel_launcher.py:4: DeprecationWarning: np.asscalar(a) is deprecated since NumPy v1.16, use a.item() instead\n",
            "  after removing the cwd from sys.path.\n",
            "/usr/local/lib/python3.6/dist-packages/ipykernel_launcher.py:5: DeprecationWarning: np.asscalar(a) is deprecated since NumPy v1.16, use a.item() instead\n",
            "  \"\"\"\n"
          ],
          "name": "stderr"
        }
      ]
    }
  ]
}
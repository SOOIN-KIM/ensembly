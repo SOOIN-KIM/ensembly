{
  "nbformat": 4,
  "nbformat_minor": 0,
  "metadata": {
    "colab": {
      "name": "ARIMA 모형예측",
      "provenance": [],
      "collapsed_sections": []
    },
    "kernelspec": {
      "name": "python3",
      "display_name": "Python 3"
    },
    "accelerator": "GPU"
  },
  "cells": [
    {
      "cell_type": "code",
      "metadata": {
        "id": "0fiXQkJnbRUR",
        "colab_type": "code",
        "colab": {}
      },
      "source": [
        "import matplotlib\n",
        "from jedi.refactoring import inline\n",
        "from pandas_datareader import get_data_yahoo\n",
        "start_date = '2017-01-01'\n",
        "codes = ['005930.KS']\n",
        "result = {}\n",
        "for code in codes:\n",
        "    result[code] = get_data_yahoo(code, start_date).Close\n"
      ],
      "execution_count": 0,
      "outputs": []
    },
    {
      "cell_type": "code",
      "metadata": {
        "id": "kOH1MSzKbXAf",
        "colab_type": "code",
        "colab": {}
      },
      "source": [
        "import pandas as pd\n",
        "prices = pd.DataFrame(result)"
      ],
      "execution_count": 0,
      "outputs": []
    },
    {
      "cell_type": "code",
      "metadata": {
        "id": "jsW0QNc6bZsC",
        "colab_type": "code",
        "outputId": "1cd26ba7-b80f-474b-e7e5-4b44a8e69431",
        "colab": {
          "base_uri": "https://localhost:8080/",
          "height": 173
        }
      },
      "source": [
        "prices = prices.fillna(method='ffill')\n",
        "prices = prices.dropna()\n",
        "prices.to_csv('stockss.csv', encoding=\"ms949\")\n",
        "prices.tail(3)"
      ],
      "execution_count": 0,
      "outputs": [
        {
          "output_type": "execute_result",
          "data": {
            "text/html": [
              "<div>\n",
              "<style scoped>\n",
              "    .dataframe tbody tr th:only-of-type {\n",
              "        vertical-align: middle;\n",
              "    }\n",
              "\n",
              "    .dataframe tbody tr th {\n",
              "        vertical-align: top;\n",
              "    }\n",
              "\n",
              "    .dataframe thead th {\n",
              "        text-align: right;\n",
              "    }\n",
              "</style>\n",
              "<table border=\"1\" class=\"dataframe\">\n",
              "  <thead>\n",
              "    <tr style=\"text-align: right;\">\n",
              "      <th></th>\n",
              "      <th>005930.KS</th>\n",
              "    </tr>\n",
              "    <tr>\n",
              "      <th>Date</th>\n",
              "      <th></th>\n",
              "    </tr>\n",
              "  </thead>\n",
              "  <tbody>\n",
              "    <tr>\n",
              "      <th>2020-02-17</th>\n",
              "      <td>61500.0</td>\n",
              "    </tr>\n",
              "    <tr>\n",
              "      <th>2020-02-18</th>\n",
              "      <td>59800.0</td>\n",
              "    </tr>\n",
              "    <tr>\n",
              "      <th>2020-02-19</th>\n",
              "      <td>60200.0</td>\n",
              "    </tr>\n",
              "  </tbody>\n",
              "</table>\n",
              "</div>"
            ],
            "text/plain": [
              "            005930.KS\n",
              "Date                 \n",
              "2020-02-17    61500.0\n",
              "2020-02-18    59800.0\n",
              "2020-02-19    60200.0"
            ]
          },
          "metadata": {
            "tags": []
          },
          "execution_count": 3
        }
      ]
    },
    {
      "cell_type": "code",
      "metadata": {
        "id": "pDGx3SW0bgbd",
        "colab_type": "code",
        "outputId": "9d9e7d99-0152-4809-c46e-6f79bd9292ab",
        "colab": {
          "base_uri": "https://localhost:8080/",
          "height": 119
        }
      },
      "source": [
        "prices = pd.read_csv('stockss.csv')\n",
        "prices = prices.set_index('Date')\n",
        "prices.index = pd.DatetimeIndex(prices.index)\n",
        "prices.info()"
      ],
      "execution_count": 0,
      "outputs": [
        {
          "output_type": "stream",
          "text": [
            "<class 'pandas.core.frame.DataFrame'>\n",
            "DatetimeIndex: 759 entries, 2017-01-02 to 2020-02-19\n",
            "Data columns (total 1 columns):\n",
            "005930.KS    759 non-null float64\n",
            "dtypes: float64(1)\n",
            "memory usage: 11.9 KB\n"
          ],
          "name": "stdout"
        }
      ]
    },
    {
      "cell_type": "code",
      "metadata": {
        "id": "xXVlu4tnbm22",
        "colab_type": "code",
        "outputId": "76836f8a-bed3-43ac-e73e-33e9457adc0b",
        "colab": {
          "base_uri": "https://localhost:8080/",
          "height": 136
        }
      },
      "source": [
        "price = prices['005930.KS']\n",
        "price = price['2018-01-01':'2020-02-19']\n",
        "price.tail()"
      ],
      "execution_count": 0,
      "outputs": [
        {
          "output_type": "execute_result",
          "data": {
            "text/plain": [
              "Date\n",
              "2020-02-13    60700.0\n",
              "2020-02-14    61800.0\n",
              "2020-02-17    61500.0\n",
              "2020-02-18    59800.0\n",
              "2020-02-19    60200.0\n",
              "Name: 005930.KS, dtype: float64"
            ]
          },
          "metadata": {
            "tags": []
          },
          "execution_count": 5
        }
      ]
    },
    {
      "cell_type": "code",
      "metadata": {
        "id": "f42C8UJAbqsz",
        "colab_type": "code",
        "colab": {}
      },
      "source": [
        "import warnings\n",
        "warnings.filterwarnings('ignore')"
      ],
      "execution_count": 0,
      "outputs": []
    },
    {
      "cell_type": "code",
      "metadata": {
        "id": "78s6B-DBbtMv",
        "colab_type": "code",
        "outputId": "decba980-e326-4acf-9284-76768dd9bae8",
        "colab": {
          "base_uri": "https://localhost:8080/",
          "height": 281
        }
      },
      "source": [
        "from statsmodels.graphics.tsaplots import plot_acf, plot_pacf\n",
        "import matplotlib.pyplot as plt\n",
        "plot_acf(price)\n",
        "plt.show()"
      ],
      "execution_count": 0,
      "outputs": [
        {
          "output_type": "display_data",
          "data": {
            "image/png": "[encoded data removed]",
            "text/plain": [
              "<Figure size 432x288 with 1 Axes>"
            ]
          },
          "metadata": {
            "tags": []
          }
        }
      ]
    },
    {
      "cell_type": "code",
      "metadata": {
        "id": "t6XL7gALcBVc",
        "colab_type": "code",
        "outputId": "ecd4aea8-5f8e-436c-c100-fb7cf8e84e9f",
        "colab": {
          "base_uri": "https://localhost:8080/",
          "height": 281
        }
      },
      "source": [
        "plot_pacf(price)\n",
        "plt.show()"
      ],
      "execution_count": 0,
      "outputs": [
        {
          "output_type": "display_data",
          "data": {
            "image/png": "[encoded data removed]",
            "text/plain": [
              "<Figure size 432x288 with 1 Axes>"
            ]
          },
          "metadata": {
            "tags": []
          }
        }
      ]
    },
    {
      "cell_type": "code",
      "metadata": {
        "id": "d-hxo8atcEvR",
        "colab_type": "code",
        "outputId": "d243b023-bacc-444e-f696-3a123a69b3c2",
        "colab": {
          "base_uri": "https://localhost:8080/",
          "height": 281
        }
      },
      "source": [
        "diff_1 = price.diff(periods=1).dropna()\n",
        "plot_acf(diff_1)\n",
        "plt.show()"
      ],
      "execution_count": 0,
      "outputs": [
        {
          "output_type": "display_data",
          "data": {
            "image/png": "[encoded data removed]",
            "text/plain": [
              "<Figure size 432x288 with 1 Axes>"
            ]
          },
          "metadata": {
            "tags": []
          }
        }
      ]
    },
    {
      "cell_type": "code",
      "metadata": {
        "id": "_cGbjdvhcGoY",
        "colab_type": "code",
        "outputId": "254a626b-8fb8-484e-8ea6-f9b2d67b3511",
        "colab": {
          "base_uri": "https://localhost:8080/",
          "height": 281
        }
      },
      "source": [
        "plot_pacf(diff_1)\n",
        "plt.show()"
      ],
      "execution_count": 0,
      "outputs": [
        {
          "output_type": "display_data",
          "data": {
            "image/png": "[encoded data removed]",
            "text/plain": [
              "<Figure size 432x288 with 1 Axes>"
            ]
          },
          "metadata": {
            "tags": []
          }
        }
      ]
    },
    {
      "cell_type": "code",
      "metadata": {
        "id": "HAXtrtjvcJUv",
        "colab_type": "code",
        "outputId": "8c16a342-704f-43e8-b750-6a72af92a0d1",
        "colab": {
          "base_uri": "https://localhost:8080/",
          "height": 294
        }
      },
      "source": [
        "price.plot()"
      ],
      "execution_count": 0,
      "outputs": [
        {
          "output_type": "execute_result",
          "data": {
            "text/plain": [
              "<matplotlib.axes._subplots.AxesSubplot at 0x7f144f1872e8>"
            ]
          },
          "metadata": {
            "tags": []
          },
          "execution_count": 11
        },
        {
          "output_type": "display_data",
          "data": {
            "image/png": "[encoded data removed]",
            "text/plain": [
              "<Figure size 432x288 with 1 Axes>"
            ]
          },
          "metadata": {
            "tags": []
          }
        }
      ]
    },
    {
      "cell_type": "code",
      "metadata": {
        "id": "oYt9gxN9celI",
        "colab_type": "code",
        "outputId": "34861eee-1355-447c-dbde-4097e92e4468",
        "colab": {
          "base_uri": "https://localhost:8080/",
          "height": 88
        }
      },
      "source": [
        "import statsmodels.tsa.api as tsa\n",
        "ARMA = tsa.ARMA(price, order =(2, 1))\n",
        "ARMA"
      ],
      "execution_count": 0,
      "outputs": [
        {
          "output_type": "stream",
          "text": [
            "/usr/local/lib/python3.6/dist-packages/statsmodels/tsa/base/tsa_model.py:219: ValueWarning: A date index has been provided, but it has no associated frequency information and so will be ignored when e.g. forecasting.\n",
            "  ' ignored when e.g. forecasting.', ValueWarning)\n"
          ],
          "name": "stderr"
        },
        {
          "output_type": "execute_result",
          "data": {
            "text/plain": [
              "<statsmodels.tsa.arima_model.ARMA at 0x7f144f1ba940>"
            ]
          },
          "metadata": {
            "tags": []
          },
          "execution_count": 12
        }
      ]
    },
    {
      "cell_type": "code",
      "metadata": {
        "id": "1-IY4HVwc1Ls",
        "colab_type": "code",
        "outputId": "4715a6d7-c30d-4593-cbdd-23311f5e810f",
        "colab": {
          "base_uri": "https://localhost:8080/",
          "height": 401
        }
      },
      "source": [
        "ARMA_results= ARMA.fit()\n",
        "ARMA_results.summary2()"
      ],
      "execution_count": 0,
      "outputs": [
        {
          "output_type": "execute_result",
          "data": {
            "text/html": [
              "<table class=\"simpletable\">\n",
              "<tr>\n",
              "        <td>Model:</td>              <td>ARMA</td>               <td>BIC:</td>         <td>8410.3324</td>\n",
              "</tr>\n",
              "<tr>\n",
              "  <td>Dependent Variable:</td>     <td>005930.KS</td>       <td>Log-Likelihood:</td>    <td>-4189.5</td> \n",
              "</tr>\n",
              "<tr>\n",
              "         <td>Date:</td>        <td>2020-02-19 07:37</td>        <td>Scale:</td>         <td>1.0000</td>  \n",
              "</tr>\n",
              "<tr>\n",
              "   <td>No. Observations:</td>         <td>520</td>              <td>Method:</td>        <td>css-mle</td> \n",
              "</tr>\n",
              "<tr>\n",
              "       <td>Df Model:</td>              <td>4</td>               <td>Sample:</td>           <td>0</td>    \n",
              "</tr>\n",
              "<tr>\n",
              "     <td>Df Residuals:</td>           <td>516</td>                 <td></td>               <td>0</td>    \n",
              "</tr>\n",
              "<tr>\n",
              "      <td>Converged:</td>           <td>1.0000</td>      <td>S.D. of innovations:</td>  <td>760.542</td> \n",
              "</tr>\n",
              "<tr>\n",
              "    <td>No. Iterations:</td>        <td>42.0000</td>             <td>HQIC:</td>        <td>8397.395</td> \n",
              "</tr>\n",
              "<tr>\n",
              "         <td>AIC:</td>             <td>8389.0633</td>              <td></td>               <td></td>     \n",
              "</tr>\n",
              "</table>\n",
              "<table class=\"simpletable\">\n",
              "<tr>\n",
              "         <td></td>            <th>Coef.</th>   <th>Std.Err.</th>     <th>t</th>     <th>P>|t|</th>   <th>[0.025</th>     <th>0.975]</th>  \n",
              "</tr>\n",
              "<tr>\n",
              "  <th>const</th>           <td>49310.5997</td> <td>2908.5829</td> <td>16.9535</td> <td>0.0000</td> <td>43609.8820</td> <td>55011.3173</td>\n",
              "</tr>\n",
              "<tr>\n",
              "  <th>ar.L1.005930.KS</th>   <td>1.2929</td>    <td>0.4159</td>   <td>3.1086</td>  <td>0.0020</td>   <td>0.4777</td>     <td>2.1080</td>  \n",
              "</tr>\n",
              "<tr>\n",
              "  <th>ar.L2.005930.KS</th>   <td>-0.3004</td>   <td>0.4121</td>   <td>-0.7290</td> <td>0.4663</td>   <td>-1.1080</td>    <td>0.5072</td>  \n",
              "</tr>\n",
              "<tr>\n",
              "  <th>ma.L1.005930.KS</th>   <td>-0.2556</td>   <td>0.4201</td>   <td>-0.6086</td> <td>0.5431</td>   <td>-1.0789</td>    <td>0.5677</td>  \n",
              "</tr>\n",
              "</table>\n",
              "<table class=\"simpletable\">\n",
              "<tr>\n",
              "    <td></td>    <th>Real</th>  <th>Imaginary</th> <th>Modulus</th> <th>Frequency</th>\n",
              "</tr>\n",
              "<tr>\n",
              "  <th>AR.1</th> <td>1.0109</td>  <td>0.0000</td>   <td>1.0109</td>   <td>0.0000</td>  \n",
              "</tr>\n",
              "<tr>\n",
              "  <th>AR.2</th> <td>3.2930</td>  <td>0.0000</td>   <td>3.2930</td>   <td>0.0000</td>  \n",
              "</tr>\n",
              "<tr>\n",
              "  <th>MA.1</th> <td>3.9117</td>  <td>0.0000</td>   <td>3.9117</td>   <td>0.0000</td>  \n",
              "</tr>\n",
              "</table>"
            ],
            "text/plain": [
              "<class 'statsmodels.iolib.summary2.Summary'>\n",
              "\"\"\"\n",
              "                              Results: ARMA\n",
              "=========================================================================\n",
              "Model:                ARMA               BIC:                   8410.3324\n",
              "Dependent Variable:   005930.KS          Log-Likelihood:        -4189.5  \n",
              "Date:                 2020-02-19 07:37   Scale:                 1.0000   \n",
              "No. Observations:     520                Method:                css-mle  \n",
              "Df Model:             4                  Sample:                0        \n",
              "Df Residuals:         516                                       0        \n",
              "Converged:            1.0000             S.D. of innovations:   760.542  \n",
              "No. Iterations:       42.0000            HQIC:                  8397.395 \n",
              "AIC:                  8389.0633                                          \n",
              "-------------------------------------------------------------------------\n",
              "                  Coef.     Std.Err.    t    P>|t|    [0.025     0.975]  \n",
              "-------------------------------------------------------------------------\n",
              "const           49310.5997 2908.5829 16.9535 0.0000 43609.8820 55011.3173\n",
              "ar.L1.005930.KS     1.2929    0.4159  3.1086 0.0020     0.4777     2.1080\n",
              "ar.L2.005930.KS    -0.3004    0.4121 -0.7290 0.4663    -1.1080     0.5072\n",
              "ma.L1.005930.KS    -0.2556    0.4201 -0.6086 0.5431    -1.0789     0.5677\n",
              "------------------------------------------------------------------------------------\n",
              "                  Real             Imaginary            Modulus            Frequency\n",
              "------------------------------------------------------------------------------------\n",
              "AR.1             1.0109               0.0000             1.0109               0.0000\n",
              "AR.2             3.2930               0.0000             3.2930               0.0000\n",
              "MA.1             3.9117               0.0000             3.9117               0.0000\n",
              "=========================================================================\n",
              "\n",
              "\"\"\""
            ]
          },
          "metadata": {
            "tags": []
          },
          "execution_count": 13
        }
      ]
    },
    {
      "cell_type": "code",
      "metadata": {
        "id": "9bfwHGztc3cG",
        "colab_type": "code",
        "outputId": "825001b8-14e5-4da0-c668-fdb2917e4ae5",
        "colab": {
          "base_uri": "https://localhost:8080/",
          "height": 430
        }
      },
      "source": [
        "from statsmodels.tsa.arima_model import ARIMA\n",
        "\n",
        "model = ARIMA (price, order = (0, 0, 3))\n",
        "model_fit = model.fit()\n",
        "model_fit.summary()"
      ],
      "execution_count": 0,
      "outputs": [
        {
          "output_type": "stream",
          "text": [
            "/usr/local/lib/python3.6/dist-packages/statsmodels/tsa/base/tsa_model.py:219: ValueWarning: A date index has been provided, but it has no associated frequency information and so will be ignored when e.g. forecasting.\n",
            "  ' ignored when e.g. forecasting.', ValueWarning)\n"
          ],
          "name": "stderr"
        },
        {
          "output_type": "execute_result",
          "data": {
            "text/html": [
              "<table class=\"simpletable\">\n",
              "<caption>ARMA Model Results</caption>\n",
              "<tr>\n",
              "  <th>Dep. Variable:</th>     <td>005930.KS</td>    <th>  No. Observations:  </th>    <td>520</td>   \n",
              "</tr>\n",
              "<tr>\n",
              "  <th>Model:</th>            <td>ARMA(0, 3)</td>    <th>  Log Likelihood     </th> <td>-4511.963</td>\n",
              "</tr>\n",
              "<tr>\n",
              "  <th>Method:</th>             <td>css-mle</td>     <th>  S.D. of innovations</th> <td>1415.354</td> \n",
              "</tr>\n",
              "<tr>\n",
              "  <th>Date:</th>          <td>Wed, 19 Feb 2020</td> <th>  AIC                </th> <td>9033.926</td> \n",
              "</tr>\n",
              "<tr>\n",
              "  <th>Time:</th>              <td>07:37:27</td>     <th>  BIC                </th> <td>9055.195</td> \n",
              "</tr>\n",
              "<tr>\n",
              "  <th>Sample:</th>                <td>0</td>        <th>  HQIC               </th> <td>9042.258</td> \n",
              "</tr>\n",
              "<tr>\n",
              "  <th></th>                       <td> </td>        <th>                     </th>     <td> </td>    \n",
              "</tr>\n",
              "</table>\n",
              "<table class=\"simpletable\">\n",
              "<tr>\n",
              "         <td></td>            <th>coef</th>     <th>std err</th>      <th>z</th>      <th>P>|z|</th>  <th>[0.025</th>    <th>0.975]</th>  \n",
              "</tr>\n",
              "<tr>\n",
              "  <th>const</th>           <td> 4.754e+04</td> <td>  265.232</td> <td>  179.245</td> <td> 0.000</td> <td>  4.7e+04</td> <td> 4.81e+04</td>\n",
              "</tr>\n",
              "<tr>\n",
              "  <th>ma.L1.005930.KS</th> <td>    1.4205</td> <td>    0.042</td> <td>   33.533</td> <td> 0.000</td> <td>    1.337</td> <td>    1.503</td>\n",
              "</tr>\n",
              "<tr>\n",
              "  <th>ma.L2.005930.KS</th> <td>    1.2472</td> <td>    0.038</td> <td>   32.715</td> <td> 0.000</td> <td>    1.172</td> <td>    1.322</td>\n",
              "</tr>\n",
              "<tr>\n",
              "  <th>ma.L3.005930.KS</th> <td>    0.6166</td> <td>    0.031</td> <td>   19.641</td> <td> 0.000</td> <td>    0.555</td> <td>    0.678</td>\n",
              "</tr>\n",
              "</table>\n",
              "<table class=\"simpletable\">\n",
              "<caption>Roots</caption>\n",
              "<tr>\n",
              "    <td></td>   <th>            Real</th>  <th>         Imaginary</th> <th>         Modulus</th>  <th>        Frequency</th>\n",
              "</tr>\n",
              "<tr>\n",
              "  <th>MA.1</th> <td>          -1.2233</td> <td>          -0.0000j</td> <td>           1.2233</td> <td>          -0.5000</td>\n",
              "</tr>\n",
              "<tr>\n",
              "  <th>MA.2</th> <td>          -0.3997</td> <td>          -1.0798j</td> <td>           1.1514</td> <td>          -0.3064</td>\n",
              "</tr>\n",
              "<tr>\n",
              "  <th>MA.3</th> <td>          -0.3997</td> <td>          +1.0798j</td> <td>           1.1514</td> <td>           0.3064</td>\n",
              "</tr>\n",
              "</table>"
            ],
            "text/plain": [
              "<class 'statsmodels.iolib.summary.Summary'>\n",
              "\"\"\"\n",
              "                              ARMA Model Results                              \n",
              "==============================================================================\n",
              "Dep. Variable:              005930.KS   No. Observations:                  520\n",
              "Model:                     ARMA(0, 3)   Log Likelihood               -4511.963\n",
              "Method:                       css-mle   S.D. of innovations           1415.354\n",
              "Date:                Wed, 19 Feb 2020   AIC                           9033.926\n",
              "Time:                        07:37:27   BIC                           9055.195\n",
              "Sample:                             0   HQIC                          9042.258\n",
              "                                                                              \n",
              "===================================================================================\n",
              "                      coef    std err          z      P>|z|      [0.025      0.975]\n",
              "-----------------------------------------------------------------------------------\n",
              "const            4.754e+04    265.232    179.245      0.000     4.7e+04    4.81e+04\n",
              "ma.L1.005930.KS     1.4205      0.042     33.533      0.000       1.337       1.503\n",
              "ma.L2.005930.KS     1.2472      0.038     32.715      0.000       1.172       1.322\n",
              "ma.L3.005930.KS     0.6166      0.031     19.641      0.000       0.555       0.678\n",
              "                                    Roots                                    \n",
              "=============================================================================\n",
              "                  Real          Imaginary           Modulus         Frequency\n",
              "-----------------------------------------------------------------------------\n",
              "MA.1           -1.2233           -0.0000j            1.2233           -0.5000\n",
              "MA.2           -0.3997           -1.0798j            1.1514           -0.3064\n",
              "MA.3           -0.3997           +1.0798j            1.1514            0.3064\n",
              "-----------------------------------------------------------------------------\n",
              "\"\"\""
            ]
          },
          "metadata": {
            "tags": []
          },
          "execution_count": 14
        }
      ]
    },
    {
      "cell_type": "code",
      "metadata": {
        "id": "pOMgNSp4eOFe",
        "colab_type": "code",
        "outputId": "4881e261-f294-46c9-ceba-7c007cb86511",
        "colab": {
          "base_uri": "https://localhost:8080/",
          "height": 479
        }
      },
      "source": [
        "\n",
        "model = ARIMA(price, order = (0,0,3))\n",
        "model_fit = model.fit(trend = 'c', full_output = True, disp = 1)\n",
        "print(model_fit.summary())"
      ],
      "execution_count": 0,
      "outputs": [
        {
          "output_type": "stream",
          "text": [
            "/usr/local/lib/python3.6/dist-packages/statsmodels/tsa/base/tsa_model.py:219: ValueWarning: A date index has been provided, but it has no associated frequency information and so will be ignored when e.g. forecasting.\n",
            "  ' ignored when e.g. forecasting.', ValueWarning)\n"
          ],
          "name": "stderr"
        },
        {
          "output_type": "stream",
          "text": [
            "                              ARMA Model Results                              \n",
            "==============================================================================\n",
            "Dep. Variable:              005930.KS   No. Observations:                  520\n",
            "Model:                     ARMA(0, 3)   Log Likelihood               -4511.963\n",
            "Method:                       css-mle   S.D. of innovations           1415.354\n",
            "Date:                Wed, 19 Feb 2020   AIC                           9033.926\n",
            "Time:                        07:37:27   BIC                           9055.195\n",
            "Sample:                             0   HQIC                          9042.258\n",
            "                                                                              \n",
            "===================================================================================\n",
            "                      coef    std err          z      P>|z|      [0.025      0.975]\n",
            "-----------------------------------------------------------------------------------\n",
            "const            4.754e+04    265.232    179.245      0.000     4.7e+04    4.81e+04\n",
            "ma.L1.005930.KS     1.4205      0.042     33.533      0.000       1.337       1.503\n",
            "ma.L2.005930.KS     1.2472      0.038     32.715      0.000       1.172       1.322\n",
            "ma.L3.005930.KS     0.6166      0.031     19.641      0.000       0.555       0.678\n",
            "                                    Roots                                    \n",
            "=============================================================================\n",
            "                  Real          Imaginary           Modulus         Frequency\n",
            "-----------------------------------------------------------------------------\n",
            "MA.1           -1.2233           -0.0000j            1.2233           -0.5000\n",
            "MA.2           -0.3997           -1.0798j            1.1514           -0.3064\n",
            "MA.3           -0.3997           +1.0798j            1.1514            0.3064\n",
            "-----------------------------------------------------------------------------\n"
          ],
          "name": "stdout"
        }
      ]
    },
    {
      "cell_type": "code",
      "metadata": {
        "id": "wvvJlPwpfDem",
        "colab_type": "code",
        "outputId": "3d30ed12-d0db-4934-89d8-192e254c1682",
        "colab": {
          "base_uri": "https://localhost:8080/",
          "height": 277
        }
      },
      "source": [
        "model_fit.plot_predict()\n",
        "plt.grid()\n",
        "plt.show()"
      ],
      "execution_count": 0,
      "outputs": [
        {
          "output_type": "display_data",
          "data": {
            "image/png": "[encoded data removed]",
            "text/plain": [
              "<Figure size 432x288 with 1 Axes>"
            ]
          },
          "metadata": {
            "tags": []
          }
        }
      ]
    },
    {
      "cell_type": "code",
      "metadata": {
        "id": "JdVo3aFTfLcC",
        "colab_type": "code",
        "outputId": "1632e9ee-dc91-4577-add0-76ac8d41edd2",
        "colab": {
          "base_uri": "https://localhost:8080/",
          "height": 34
        }
      },
      "source": [
        "fore = model_fit.forecast(steps = 10)\n",
        "len(fore)"
      ],
      "execution_count": 0,
      "outputs": [
        {
          "output_type": "execute_result",
          "data": {
            "text/plain": [
              "3"
            ]
          },
          "metadata": {
            "tags": []
          },
          "execution_count": 17
        }
      ]
    },
    {
      "cell_type": "code",
      "metadata": {
        "id": "Zm5fUaNwfREQ",
        "colab_type": "code",
        "outputId": "c9acde4d-1755-46ca-e542-457d050a8f60",
        "colab": {
          "base_uri": "https://localhost:8080/",
          "height": 68
        }
      },
      "source": [
        "fore[0]"
      ],
      "execution_count": 0,
      "outputs": [
        {
          "output_type": "execute_result",
          "data": {
            "text/plain": [
              "array([57141.39919865, 53803.28493756, 50206.38135522, 47541.61321099,\n",
              "       47541.61321099, 47541.61321099, 47541.61321099, 47541.61321099,\n",
              "       47541.61321099, 47541.61321099])"
            ]
          },
          "metadata": {
            "tags": []
          },
          "execution_count": 18
        }
      ]
    },
    {
      "cell_type": "code",
      "metadata": {
        "id": "41oTC3O1fTsO",
        "colab_type": "code",
        "outputId": "d3740981-24e2-4023-8543-cc63c5346077",
        "colab": {
          "base_uri": "https://localhost:8080/",
          "height": 68
        }
      },
      "source": [
        "fore[1]"
      ],
      "execution_count": 0,
      "outputs": [
        {
          "output_type": "execute_result",
          "data": {
            "text/plain": [
              "array([1415.35353659, 2458.70363816, 3026.76328033, 3150.05775018,\n",
              "       3150.05775018, 3150.05775018, 3150.05775018, 3150.05775018,\n",
              "       3150.05775018, 3150.05775018])"
            ]
          },
          "metadata": {
            "tags": []
          },
          "execution_count": 19
        }
      ]
    },
    {
      "cell_type": "code",
      "metadata": {
        "id": "RjjDYT1gfVpY",
        "colab_type": "code",
        "outputId": "dcc401e5-b108-416a-8d66-4f8c355f77c9",
        "colab": {
          "base_uri": "https://localhost:8080/",
          "height": 34
        }
      },
      "source": [
        "fore[2].shape"
      ],
      "execution_count": 0,
      "outputs": [
        {
          "output_type": "execute_result",
          "data": {
            "text/plain": [
              "(10, 2)"
            ]
          },
          "metadata": {
            "tags": []
          },
          "execution_count": 20
        }
      ]
    },
    {
      "cell_type": "code",
      "metadata": {
        "id": "wYhyDsNjfX6D",
        "colab_type": "code",
        "outputId": "e6f4acb2-39de-408e-a11a-0829b0cf593b",
        "colab": {
          "base_uri": "https://localhost:8080/",
          "height": 278
        }
      },
      "source": [
        "print('예측주가 : {} \\nstderr : {} \\nupper bound : {} \\nlower bound : {}'.format(\n",
        "    fore[0], \n",
        "    fore[1][0], \n",
        "    fore[2][0][0], \n",
        "    fore[2][0][1]))\n",
        "\n",
        "pd.Series(fore[0]).plot(figsize=(16,2), grid=True)"
      ],
      "execution_count": 0,
      "outputs": [
        {
          "output_type": "stream",
          "text": [
            "예측주가 : [57141.39919865 53803.28493756 50206.38135522 47541.61321099\n",
            " 47541.61321099 47541.61321099 47541.61321099 47541.61321099\n",
            " 47541.61321099 47541.61321099] \n",
            "stderr : 1415.3535365938592 \n",
            "upper bound : 54367.35724153174 \n",
            "lower bound : 59915.44115576245\n"
          ],
          "name": "stdout"
        },
        {
          "output_type": "execute_result",
          "data": {
            "text/plain": [
              "<matplotlib.axes._subplots.AxesSubplot at 0x7f144bfe5ba8>"
            ]
          },
          "metadata": {
            "tags": []
          },
          "execution_count": 21
        },
        {
          "output_type": "display_data",
          "data": {
            "image/png": "[encoded data removed]",
            "text/plain": [
              "<Figure size 1152x144 with 1 Axes>"
            ]
          },
          "metadata": {
            "tags": []
          }
        }
      ]
    },
    {
      "cell_type": "code",
      "metadata": {
        "id": "XfsH9f7yfbMi",
        "colab_type": "code",
        "colab": {}
      },
      "source": [
        ""
      ],
      "execution_count": 0,
      "outputs": []
    }
  ]
}